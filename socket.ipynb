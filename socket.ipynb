{
 "cells": [
  {
   "cell_type": "code",
   "execution_count": null,
   "id": "2840334c",
   "metadata": {},
   "outputs": [],
   "source": [
    "# echo-client.py\n",
    "\n",
    "import socket\n",
    "\n",
    "HOST = \"127.0.0.1\"  # The server's hostname or IP address\n",
    "PORT = 65432  # The port used by the server\n",
    "\n",
    "s = socket.socket(socket.AF_INET, socket.SOCK_STREAM)\n",
    "s.connect((HOST, PORT))\n",
    "s.send(b\"Hello, world.... sent by client\")\n",
    "\n",
    "#receive data from server and print it\n",
    "data = s.recv(1024)\n",
    "print(f\"Received {data!r}\")\n",
    "\n",
    " \n"
   ]
  },
  {
   "cell_type": "code",
   "execution_count": null,
   "id": "b6d47af2",
   "metadata": {},
   "outputs": [],
   "source": [
    "# echo-server.py\n",
    "\n",
    "\n",
    "\n",
    "import socket\n",
    "\n",
    "HOST = \"127.0.0.1\")\n",
    "PORT = 65432  \n",
    "\n",
    "s = socket.socket(socket.AF_INET, socket.SOCK_STREAM)\n",
    "\n",
    "\n",
    "\n",
    "s.bind((HOST, PORT))\n",
    "s.listen()\n",
    "\n",
    " \n",
    "print (\"socket binded to %s\" %(PORT)) \n",
    "\n",
    "print (\"socket is listening....\")\n",
    "\n",
    "\n",
    "while True: \n",
    "    con, addr = s.accept()\n",
    "    print ('Got connection from', addr ) \n",
    "    con.send(b\"Thank you for connecting...sent by server\")\n",
    "    data = con.recv(1024) \n",
    "    print(f\"Received {data!r}\")    \n",
    "    con.close()\n",
    "    break\n"
   ]
  }
 ],
 "metadata": {
  "kernelspec": {
   "display_name": "Python 3 (ipykernel)",
   "language": "python",
   "name": "python3"
  },
  "language_info": {
   "codemirror_mode": {
    "name": "ipython",
    "version": 3
   },
   "file_extension": ".py",
   "mimetype": "text/x-python",
   "name": "python",
   "nbconvert_exporter": "python",
   "pygments_lexer": "ipython3",
   "version": "3.11.5"
  }
 },
 "nbformat": 4,
 "nbformat_minor": 5
}
