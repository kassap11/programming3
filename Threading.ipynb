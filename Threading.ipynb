{
 "cells": [
  {
   "cell_type": "markdown",
   "id": "32bbbae2",
   "metadata": {},
   "source": [
    "# example of multiprocessing"
   ]
  },
  {
   "cell_type": "code",
   "execution_count": 8,
   "id": "936185e8",
   "metadata": {},
   "outputs": [
    {
     "name": "stdout",
     "output_type": "stream",
     "text": [
      "done in :  0.28031182289123535\n",
      "The number of CPU currently working in system :  12\n"
     ]
    }
   ],
   "source": [
    "import time\n",
    "import multiprocessing\n",
    "\n",
    "def calc_square(numbers):\n",
    "    for n in numbers:\n",
    "        print('square ' + str(n*n))\n",
    "        time.sleep(3)\n",
    "    \n",
    "def calc_cube(numbers):\n",
    "    for n in numbers:\n",
    "        print('cube ' + str(n*n*n))\n",
    "        time.sleep(3)\n",
    "\n",
    "\n",
    "if __name__ == \"__main__\":\n",
    "    arr = [2,3,8]\n",
    "    \n",
    "    t = time.time()\n",
    "    p1 = multiprocessing.Process(target=calc_square, args=(arr,))\n",
    "    p2 = multiprocessing.Process(target=calc_cube, args=(arr,))\n",
    "\n",
    "    p1.start()\n",
    "    p2.start()\n",
    "\n",
    "    p1.join()\n",
    "    p2.join()\n",
    "  \n",
    "     \n",
    "    print(\"done in : \",time.time()-t)\n",
    "\n",
    "    print(\"The number of CPU currently working in system : \", multiprocessing.cpu_count()) "
   ]
  },
  {
   "cell_type": "code",
   "execution_count": 7,
   "id": "077030eb",
   "metadata": {},
   "outputs": [
    {
     "name": "stdout",
     "output_type": "stream",
     "text": [
      "Result(in main program): []\n"
     ]
    }
   ],
   "source": [
    "\n",
    "#problem\n",
    "\n",
    "import multiprocessing \n",
    "\n",
    " \n",
    "result = [] \n",
    "\n",
    "def square_list(mylist): \n",
    "    global result \n",
    "    for num in mylist: \n",
    "        result.append(num * num) \n",
    "        print(\"Result(in process p1): {}\".format(result)) \n",
    "\n",
    "if __name__ == \"__main__\": \n",
    " \n",
    "    mylist = [1,2,3,4] \n",
    "\n",
    " \n",
    "    p1 = multiprocessing.Process(target=square_list, args=(mylist,)) \n",
    " \n",
    "    p1.start() \n",
    "\n",
    "    p1.join() \n",
    "\n",
    "    print(\"Result(in main program): {}\".format(result)) \n",
    "\n",
    "\n"
   ]
  },
  {
   "cell_type": "code",
   "execution_count": 9,
   "id": "d64aad5a",
   "metadata": {},
   "outputs": [
    {
     "name": "stdout",
     "output_type": "stream",
     "text": [
      "calculate square numbers \n",
      "\n",
      "square: 4 \n",
      "\n",
      "calculate cube of numbers \n",
      "\n",
      "cube: 8 \n",
      "\n",
      "square: 9 \n",
      "\n",
      "cube: 27 \n",
      "\n",
      "square: 64 \n",
      "\n",
      "cube: 512 \n",
      "\n",
      "square: 81 \n",
      "\n",
      "cube: 729 \n",
      "\n",
      "done in :  0.8103752136230469\n",
      "Hah... I am done with all my work now!\n"
     ]
    }
   ],
   "source": [
    "\n",
    "#This solution\n",
    "\n",
    "import multiprocessing \n",
    "\n",
    "def square_list(mylist, result, square_sum): \n",
    " \n",
    "for idx, num in enumerate(mylist): \n",
    "result[idx] = num * num \n",
    "\n",
    "square_sum.value = sum(result) \n",
    "print(\"Result(in process p1): {}\".format(result[:])) \n",
    "\n",
    " \n",
    "print(\"Sum of squares(in process p1): {}\".format(square_sum.value)) \n",
    "\n",
    "if __name__ == \"__main__\": \n",
    "\n",
    "mylist = [1,2,3,4] \n",
    "\n",
    "\t# creating Array of int data type with space for 4 integers \n",
    "result = multiprocessing.Array('i', 4) \n",
    "\n",
    "\t# creating Value of int data type \n",
    "square_sum = multiprocessing.Value('i') \n",
    "\n",
    "\t# creating new process \n",
    "p1 = multiprocessing.Process(target=square_list, args=(mylist, result, square_sum)) \n",
    "\n",
    "\t# starting process \n",
    "\tp1.start() \n",
    "\n",
    "\t# wait until the process is finished \n",
    "\tp1.join() \n",
    "\n",
    "\t# print result array \n",
    "\tprint(\"Result(in main program): {}\".format(result[:])) \n",
    "\n",
    "\t# print square_sum Value \n",
    "\tprint(\"Sum of squares(in main program): {}\".format(square_sum.value)) \n",
    "\n",
    "\n",
    "\"\"\"\n",
    "\tShared memory : multiprocessing module provides Array and Value objects to share data between processes.\n",
    "\tArray: a ctypes array allocated from shared memory.\n",
    "\tValue: a ctypes object allocated from shared memory.\n",
    "\"\"\""
   ]
  },
  {
   "cell_type": "code",
   "execution_count": null,
   "id": "c96204ae",
   "metadata": {},
   "outputs": [],
   "source": []
  }
 ],
 "metadata": {
  "kernelspec": {
   "display_name": "Python 3 (ipykernel)",
   "language": "python",
   "name": "python3"
  },
  "language_info": {
   "codemirror_mode": {
    "name": "ipython",
    "version": 3
   },
   "file_extension": ".py",
   "mimetype": "text/x-python",
   "name": "python",
   "nbconvert_exporter": "python",
   "pygments_lexer": "ipython3",
   "version": "3.11.5"
  }
 },
 "nbformat": 4,
 "nbformat_minor": 5
}
