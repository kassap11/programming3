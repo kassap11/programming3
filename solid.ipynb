{
 "cells": [
  {
   "cell_type": "code",
   "execution_count": 1,
   "id": "9688957a",
   "metadata": {},
   "outputs": [],
   "source": [
    "#the class is violated the single responsibility priniple"
   ]
  },
  {
   "cell_type": "code",
   "execution_count": 2,
   "id": "86b8df49",
   "metadata": {},
   "outputs": [],
   "source": [
    "class animal(object):\n",
    "    def __init__(self):\n",
    "        pass\n",
    "    def name(self):\n",
    "        print(\"the name is\")\n",
    "    def age(self):\n",
    "        print(\"the age is\")\n",
    "    def save(self):\n",
    "        print(\"the job is saved\")"
   ]
  },
  {
   "cell_type": "code",
   "execution_count": 3,
   "id": "06208147",
   "metadata": {},
   "outputs": [],
   "source": [
    "#this class does not violat the single responsibility priniple\n",
    "    "
   ]
  },
  {
   "cell_type": "code",
   "execution_count": 6,
   "id": "618a3b01",
   "metadata": {},
   "outputs": [],
   "source": [
    "class animal(object):\n",
    "     def __init__(self):\n",
    "        pass\n",
    "     def name(self):\n",
    "        print(\"the name is\")\n",
    "     def age(self):\n",
    "        print(\"the age is\")\n",
    "     \n",
    "class job(object):\n",
    "    def __init__(self):\n",
    "        pass\n",
    "    def save(self):\n",
    "        print(\"the job is saved\")"
   ]
  },
  {
   "cell_type": "code",
   "execution_count": 1,
   "id": "9fbc569c",
   "metadata": {},
   "outputs": [],
   "source": [
    "from abc import ABC ,abstractmethod"
   ]
  },
  {
   "cell_type": "code",
   "execution_count": 7,
   "id": "f3373957",
   "metadata": {},
   "outputs": [
    {
     "ename": "IndentationError",
     "evalue": "unexpected unindent (2738567396.py, line 6)",
     "output_type": "error",
     "traceback": [
      "\u001b[1;36m  Cell \u001b[1;32mIn[7], line 6\u001b[1;36m\u001b[0m\n\u001b[1;33m    def calculat_area(self):\u001b[0m\n\u001b[1;37m    ^\u001b[0m\n\u001b[1;31mIndentationError\u001b[0m\u001b[1;31m:\u001b[0m unexpected unindent\n"
     ]
    }
   ],
   "source": [
    "from abc import ABC ,abstractmethod\n",
    "class shape(ABC):\n",
    "    def __init__(self,type):\n",
    "        self.type=type\n",
    "        @abstractmethod\n",
    "    def calculat_area(self):\n",
    "        pass\n",
    "    \n",
    "class circle(shape):\n",
    "    def __init__(self,reduis):\n",
    "        super.()__init__(\"circle\")\n",
    "        self.reduis=reduis\n",
    "        \n",
    "    def caluclat_area(self):\n",
    "        return reduis*reduis*3.14\n",
    "\n",
    "class rectangle(shape):\n",
    "    def __init__(self,width,hight):\n",
    "        super.()__init__(\"rectangle\")\n",
    "        self.width=width\n",
    "        self.hight=hight\n",
    "        \n",
    "        \n",
    "    def caluclat_area(self):\n",
    "        return hight* width   \n",
    "    \n",
    "        \n",
    "        \n",
    "        "
   ]
  },
  {
   "cell_type": "code",
   "execution_count": null,
   "id": "380e571e",
   "metadata": {},
   "outputs": [],
   "source": []
  }
 ],
 "metadata": {
  "kernelspec": {
   "display_name": "Python 3 (ipykernel)",
   "language": "python",
   "name": "python3"
  },
  "language_info": {
   "codemirror_mode": {
    "name": "ipython",
    "version": 3
   },
   "file_extension": ".py",
   "mimetype": "text/x-python",
   "name": "python",
   "nbconvert_exporter": "python",
   "pygments_lexer": "ipython3",
   "version": "3.11.5"
  }
 },
 "nbformat": 4,
 "nbformat_minor": 5
}
